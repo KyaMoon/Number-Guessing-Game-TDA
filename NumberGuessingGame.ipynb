{
 "cells": [
  {
   "cell_type": "code",
   "execution_count": 4,
   "metadata": {},
   "outputs": [
    {
     "name": "stdout",
     "output_type": "stream",
     "text": [
      "Oops! Too low. Try again!\n",
      "Oops! Too low. Try again!\n",
      "Nope! That guess was too high. Try again!\n",
      "Nope! That guess was too high. Try again!\n",
      "Correct! You're a guessing master!\n"
     ]
    }
   ],
   "source": [
    "import random\n",
    "num = random.randrange(1,20)\n",
    "guess = int(input(\"What number am I thinking of? (Hint: It's between 1 and 20)\"))\n",
    "\n",
    "while num!= guess:\n",
    "    if guess < num:\n",
    "        print(\"Oops! Too low. Try again!\")\n",
    "        guess = int(input(\"Guess again! What number do you think it is now?\"))\n",
    "    elif guess > num:\n",
    "        print(\"Nope! That guess was too high. Try again!\")\n",
    "        guess = int(input(\"You can do it! Have another guess...\"))\n",
    "    else:\n",
    "        break\n",
    "print(\"Correct! You're a guessing master!\")"
   ]
  }
 ],
 "metadata": {
  "kernelspec": {
   "display_name": "Python 3",
   "language": "python",
   "name": "python3"
  },
  "language_info": {
   "codemirror_mode": {
    "name": "ipython",
    "version": 3
   },
   "file_extension": ".py",
   "mimetype": "text/x-python",
   "name": "python",
   "nbconvert_exporter": "python",
   "pygments_lexer": "ipython3",
   "version": "3.11.1"
  },
  "orig_nbformat": 4,
  "vscode": {
   "interpreter": {
    "hash": "d73c7f64bcd9bf0fe34abdfaba2dc438bbc09d073472b0c799bcac48e75a85c3"
   }
  }
 },
 "nbformat": 4,
 "nbformat_minor": 2
}
